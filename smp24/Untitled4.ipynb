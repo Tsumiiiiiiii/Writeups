{
 "cells": [
  {
   "cell_type": "code",
   "execution_count": 2,
   "id": "460dcbb0-930f-409f-9fa8-fb3caaa2497f",
   "metadata": {},
   "outputs": [
    {
     "data": {
      "text/plain": [
       "17"
      ]
     },
     "execution_count": 2,
     "metadata": {},
     "output_type": "execute_result"
    }
   ],
   "source": [
    "int(sqrt(313))"
   ]
  },
  {
   "cell_type": "code",
   "execution_count": 5,
   "id": "0ad1e3b5-899f-42ad-9c66-cbe9b15643b9",
   "metadata": {},
   "outputs": [
    {
     "data": {
      "text/plain": [
       "(mpfr('2.2742059900721544e+442'), mpfr('2.2816099967933556e+442'))"
      ]
     },
     "execution_count": 5,
     "metadata": {},
     "output_type": "execute_result"
    }
   ],
   "source": [
    "import gmpy2\n",
    "from Crypto.Util.number import *\n",
    "\n",
    "p = getPrime(313)\n",
    "q = getPrime(313)\n",
    "\n",
    "r = 14\n",
    "\n",
    "el, eu = gmpy2.mpfr(0.313370), gmpy2.mpfr(0.313371)\n",
    "n = p ** r * q\n",
    "LB, UB = gmpy2.mpfr(n ** el), gmpy2.mpfr(n ^ eu)\n",
    "\n",
    "LB, UB"
   ]
  },
  {
   "cell_type": "code",
   "execution_count": 6,
   "id": "ed43e64d-b60f-4a25-b5e1-c0b4fa3e3da4",
   "metadata": {},
   "outputs": [],
   "source": [
    "d = getRandomRange(int(LB), int(UB))"
   ]
  },
  {
   "cell_type": "code",
   "execution_count": 7,
   "id": "a0fafc52-a90d-4d18-86da-a2e71068d656",
   "metadata": {},
   "outputs": [
    {
     "data": {
      "text/plain": [
       "1470"
      ]
     },
     "execution_count": 7,
     "metadata": {},
     "output_type": "execute_result"
    }
   ],
   "source": [
    "int(d).bit_length()"
   ]
  },
  {
   "cell_type": "code",
   "execution_count": 8,
   "id": "01e68ff9-c695-4abf-9270-696ccf82bc1f",
   "metadata": {},
   "outputs": [
    {
     "data": {
      "text/plain": [
       "4690"
      ]
     },
     "execution_count": 8,
     "metadata": {},
     "output_type": "execute_result"
    }
   ],
   "source": [
    "n.bit_length()"
   ]
  },
  {
   "cell_type": "code",
   "execution_count": 10,
   "id": "0150e496-08f4-490d-b303-c0e6d785e64c",
   "metadata": {},
   "outputs": [
    {
     "data": {
      "text/plain": [
       "3"
      ]
     },
     "execution_count": 10,
     "metadata": {},
     "output_type": "execute_result"
    }
   ],
   "source": [
    "int(4690 / 1470)"
   ]
  },
  {
   "cell_type": "code",
   "execution_count": 12,
   "id": "87a19c12-3483-4875-b0a2-e45bd57939a3",
   "metadata": {},
   "outputs": [
    {
     "data": {
      "text/plain": [
       "60.544265210356556"
      ]
     },
     "execution_count": 12,
     "metadata": {},
     "output_type": "execute_result"
    }
   ],
   "source": [
    "from math import log\n",
    "r = 14\n",
    "(log(1 + r)/r) * 313"
   ]
  },
  {
   "cell_type": "code",
   "execution_count": 14,
   "id": "36ca0459-6b6c-47ad-a60c-84665e0264d4",
   "metadata": {},
   "outputs": [
    {
     "data": {
      "text/plain": [
       "20"
      ]
     },
     "execution_count": 14,
     "metadata": {},
     "output_type": "execute_result"
    }
   ],
   "source": [
    "int(313/(r+1))"
   ]
  },
  {
   "cell_type": "code",
   "execution_count": 15,
   "id": "2cb38575-2aeb-473d-92fc-2562e608d2ab",
   "metadata": {},
   "outputs": [],
   "source": [
    "import itertools\n",
    "\n",
    "def small_roots(f, bounds, m=1, d=None):\n",
    "\tif not d:\n",
    "\t\td = f.degree()\n",
    "\n",
    "\tif isinstance(f, Polynomial):\n",
    "\t\tx, = polygens(f.base_ring(), f.variable_name(), 1)\n",
    "\t\tf = f(x)\n",
    "\n",
    "\tR = f.base_ring()\n",
    "\tN = R.cardinality()\n",
    "\t\n",
    "\tf /= f.coefficients().pop(0)\n",
    "\tf = f.change_ring(ZZ)\n",
    "\n",
    "\tG = Sequence([], f.parent())\n",
    "\tfor i in range(m+1):\n",
    "\t\tbase = N^(m-i) * f^i\n",
    "\t\tfor shifts in itertools.product(range(d), repeat=f.nvariables()):\n",
    "\t\t\tg = base * prod(map(power, f.variables(), shifts))\n",
    "\t\t\tG.append(g)\n",
    "\n",
    "\tB, monomials = G.coefficient_matrix()\n",
    "\tmonomials = vector(monomials)\n",
    "\n",
    "\tfactors = [monomial(*bounds) for monomial in monomials]\n",
    "\tfor i, factor in enumerate(factors):\n",
    "\t\tB.rescale_col(i, factor)\n",
    "\n",
    "\tB = B.dense_matrix().LLL()\n",
    "\n",
    "\tB = B.change_ring(QQ)\n",
    "\tfor i, factor in enumerate(factors):\n",
    "\t\tB.rescale_col(i, 1/factor)\n",
    "\n",
    "\tH = Sequence([], f.parent().change_ring(QQ))\n",
    "\tfor h in filter(None, B*monomials):\n",
    "\t\tH.append(h)\n",
    "\t\tI = H.ideal()\n",
    "\t\tif I.dimension() == -1:\n",
    "\t\t\tH.pop()\n",
    "\t\telif I.dimension() == 0:\n",
    "\t\t\troots = []\n",
    "\t\t\tfor root in I.variety(ring=ZZ):\n",
    "\t\t\t\troot = tuple(R(root[var]) for var in f.variables())\n",
    "\t\t\t\troots.append(root)\n",
    "\t\t\treturn roots\n",
    "\n",
    "\treturn []"
   ]
  },
  {
   "cell_type": "code",
   "execution_count": 16,
   "id": "89dc626f-662f-47c9-8aed-deba1398e37b",
   "metadata": {},
   "outputs": [
    {
     "data": {
      "text/plain": [
       "[205,\n",
       " 308,\n",
       " 350,\n",
       " 401,\n",
       " 408,\n",
       " 450,\n",
       " 475,\n",
       " 593,\n",
       " 607,\n",
       " 686,\n",
       " 785,\n",
       " 786,\n",
       " 837,\n",
       " 887,\n",
       " 911,\n",
       " 944]"
      ]
     },
     "execution_count": 16,
     "metadata": {},
     "output_type": "execute_result"
    }
   ],
   "source": [
    "bits = 1024\n",
    "errs = 16\n",
    "locs = sorted(Subsets(range(bits), errs).random_element())\n",
    "locs"
   ]
  },
  {
   "cell_type": "code",
   "execution_count": 23,
   "id": "47d2de66-753a-4a77-8d0e-ac2fb79c0d7b",
   "metadata": {},
   "outputs": [
    {
     "name": "stdout",
     "output_type": "stream",
     "text": [
      "['L', '10', '10100', '10100100']\n",
      "['L', '01']\n"
     ]
    }
   ],
   "source": [
    "_b = '1'\n",
    "b = '101001001'\n",
    "\n",
    "nbit = len(b)\n",
    "\n",
    "o1 = [b[:i] or \"L\" for i in range(nbit) if b[i] == _b]\n",
    "print(o1)\n",
    "\n",
    "_b = '0'\n",
    "b = '010111111'\n",
    "\n",
    "nbit = len(b)\n",
    "\n",
    "o1 = [b[:i] or \"L\" for i in range(nbit) if b[i] == _b]\n",
    "print(o1)"
   ]
  },
  {
   "cell_type": "code",
   "execution_count": 22,
   "id": "d3cb2672-f743-4236-84bc-aa7ad764b105",
   "metadata": {},
   "outputs": [
    {
     "data": {
      "text/plain": [
       "170.496000000000"
      ]
     },
     "execution_count": 22,
     "metadata": {},
     "output_type": "execute_result"
    }
   ],
   "source": [
    "256*0.666"
   ]
  },
  {
   "cell_type": "code",
   "execution_count": 139,
   "id": "138306cb-df86-4052-835e-c5295d64fd06",
   "metadata": {},
   "outputs": [
    {
     "data": {
      "text/plain": [
       "'edf15612efa0ddc4f3df41ec3fe325986b49eeac5be7781f158572afa9f1acdf'"
      ]
     },
     "execution_count": 139,
     "metadata": {},
     "output_type": "execute_result"
    }
   ],
   "source": [
    "key = os.urandom(32)\n",
    "key.hex()"
   ]
  },
  {
   "cell_type": "code",
   "execution_count": 141,
   "id": "4d7a3660-37c7-4b69-b77f-c18c37bf6764",
   "metadata": {},
   "outputs": [],
   "source": [
    "import socket\n",
    "\n",
    "def sendline(sock, data):\n",
    "    sock.sendall(data + b\"\\n\")\n",
    "\n",
    "def recvline(sock):\n",
    "    buf = b\"\"\n",
    "    while True:\n",
    "        data = sock.recv(1)\n",
    "        if not data:\n",
    "            break\n",
    "        buf += data\n",
    "        if data == b\"\\n\":\n",
    "            break\n",
    "    return buf\n",
    "\n",
    "def recvuntil(sock, delim):\n",
    "    buf = b\"\"\n",
    "    while True:\n",
    "        data = sock.recv(1)\n",
    "        if not data:\n",
    "            break\n",
    "        buf += data\n",
    "        if delim in buf:\n",
    "            break\n",
    "    return buf\n"
   ]
  },
  {
   "cell_type": "code",
   "execution_count": 140,
   "id": "091aeaf1-3585-4d8f-84b8-62d93366e717",
   "metadata": {},
   "outputs": [
    {
     "name": "stdout",
     "output_type": "stream",
     "text": [
      "a^127 + a^126 + a^125 + a^124 + a^123 + a^122 + a^121 + a^120 + a^118 + a^117 + a^116 + a^114 + a^112 + a^110 + a^109 + a^108 + a^106 + a^104 + a^103 + a^101 + a^98 + a^97 + a^96 + a^95 + a^93 + a^91 + a^89 + a^88 + a^85 + a^84 + a^79 + a^77 + a^76 + a^75 + a^73 + a^71 + a^68 + a^67 + a^66 + a^65 + a^63 + a^61 + a^60 + a^58 + a^57 + a^51 + a^50 + a^49 + a^48 + a^47 + a^44 + a^43 + a^41 + a^39 + a^38 + a^37 + a^36 + a^35 + a^34 + a^32 + a^31 + a^30 + a^27 + a^25 + a^24 + a^21 + a^20 + a^18 + a^15 + a^14 + a^9 + a^8 + a^7 + a^5 + a^4 + a^2 + a + 1\n",
      "a^127 + a^126 + a^125 + a^124 + a^123 + a^122 + a^121 + a^120 + a^118 + a^117 + a^116 + a^114 + a^112 + a^110 + a^109 + a^108 + a^106 + a^104 + a^103 + a^101 + a^98 + a^97 + a^96 + a^95 + a^93 + a^91 + a^89 + a^88 + a^85 + a^84 + a^79 + a^77 + a^76 + a^75 + a^73 + a^71 + a^68 + a^67 + a^66 + a^65 + a^63 + a^61 + a^60 + a^58 + a^57 + a^51 + a^50 + a^49 + a^48 + a^47 + a^44 + a^43 + a^41 + a^39 + a^38 + a^37 + a^36 + a^35 + a^34 + a^32 + a^31 + a^30 + a^27 + a^25 + a^24 + a^21 + a^20 + a^18 + a^15 + a^14 + a^9 + a^8 + a^7 + a^5 + a^4 + a^2 + a + 1\n",
      "320374218342050752059628895368866431517\n"
     ]
    }
   ],
   "source": [
    "# First define the field\n",
    "R.<x> = PolynomialRing(GF(2))\n",
    "# Convert f to binary polynomial\n",
    "f_poly = R([int(b) for b in bin(0x1f3267f571be716d65f11ecb21b86d2e9)[2:][::-1]])\n",
    "#print(f_poly)\n",
    "# Create the quotient field\n",
    "F.<a> = GF(2^128, modulus=f_poly)\n",
    "\n",
    "def to_field_element(byte_string):\n",
    "    \"\"\"Convert bytes to field element\"\"\"\n",
    "    n = int.from_bytes(byte_string, byteorder = 'big')\n",
    "    f = R([int(b) for b in bin(n)[2:][::-1]])\n",
    "    #print(f)\n",
    "    f = F(f)\n",
    "    #print(f)\n",
    "    return f#F.fetch_int(n)\n",
    "\n",
    "def field_element_to_int(elem):\n",
    "    \"\"\"Convert field element back to integer\"\"\"\n",
    "    # Get the polynomial representation\n",
    "    poly = elem.polynomial()\n",
    "    # Convert polynomial coefficients to integer\n",
    "    result = 0\n",
    "    for i, coeff in enumerate(poly.coefficients(sparse=False)):\n",
    "        if coeff == 1:\n",
    "            result |= (1 << i)\n",
    "    return result\n",
    "\n",
    "def solve_for_key(combined_elem, msg):\n",
    "    \"\"\"\n",
    "    Given the field element for (key || len(msg) || msg) and the msg,\n",
    "    solve for the key\n",
    "    \"\"\"\n",
    "    # Known part: len(msg) || msg\n",
    "    known_part = bytes([len(msg)]) + msg\n",
    "    known_int = int.from_bytes(known_part, byteorder = 'big')\n",
    "    known_elem = F(R([int(b) for b in bin(known_int)[2:][::-1]]))\n",
    "    \n",
    "    # Calculate the power of a we need\n",
    "    shift = (1 + len(msg)) * 8\n",
    "    \n",
    "    # In the field: key_elem = (combined_elem - known_elem) * (a^shift)^(-1)\n",
    "    shifter = F(a)^shift\n",
    "    shifter_inv = shifter^(-1)  # Modular multiplicative inverse in the field\n",
    "    \n",
    "    key_elem = F(combined_elem - known_elem) * F(shifter_inv)\n",
    "\n",
    "    return key_elem\n",
    "\n",
    "def mac_poly(key_bytes, msg):\n",
    "    \"\"\"Implement the MAC operation in the field\"\"\"\n",
    "    # Combine key, length, and message as in the original\n",
    "    print(to_field_element(key_bytes))\n",
    "    combined = key_bytes + bytes([len(msg)]) + msg\n",
    "    # Convert to field element\n",
    "    elem = to_field_element(combined)\n",
    "    #print(elem)\n",
    "    r = solve_for_key(elem, msg)\n",
    "    print(r)\n",
    "    # Compute the 10th power in the field\n",
    "    return elem, elem^10\n",
    "\n",
    "# Example usage:\n",
    "#key = os.urandom(32)\n",
    "msg = b\"a\"\n",
    "og, tag = mac_poly(key, msg)\n",
    "#print(tag)\n",
    "# root = tag.nth_root(10000, all = True)\n",
    "# for r in root:\n",
    "#     print(r == og)\n",
    "#print(tag)\n",
    "tag = field_element_to_int(tag)\n",
    "print(tag)"
   ]
  },
  {
   "cell_type": "code",
   "execution_count": 154,
   "id": "3b86295d-273d-4a89-a6b7-7652d7ba1d7f",
   "metadata": {},
   "outputs": [
    {
     "name": "stdout",
     "output_type": "stream",
     "text": [
      "key found\n",
      "a^126 + a^125 + a^124 + a^122 + a^121 + a^120 + a^115 + a^114 + a^113 + a^112 + a^110 + a^104 + a^103 + a^102 + a^100 + a^99 + a^95 + a^94 + a^93 + a^91 + a^90 + a^88 + a^86 + a^85 + a^83 + a^82 + a^81 + a^80 + a^78 + a^77 + a^73 + a^71 + a^69 + a^68 + a^61 + a^57 + a^52 + a^48 + a^46 + a^44 + a^43 + a^40 + a^39 + a^35 + a^31 + a^30 + a^28 + a^27 + a^25 + a^23 + a^22 + a^18 + a^17 + a^7 + a^4 + a^3 + a + 1\n",
      "hxp{L1f3_1s_4_CiRCuS_4nD_w3_4rE_7he_cL0wNz}\n"
     ]
    }
   ],
   "source": [
    "from Crypto.Util.number import long_to_bytes\n",
    "\n",
    "def conn():\n",
    "  sock = socket.socket(socket.AF_INET, socket.SOCK_STREAM)\n",
    "  sock.connect(('188.245.36.243', 7700))\n",
    "  return sock\n",
    "\n",
    "def get(io, c):\n",
    "    to_send = b'query ' + c.encode().hex().encode()\n",
    "    sendline(io, to_send)\n",
    "    r = bytes.fromhex(recvline(io).decode().strip())\n",
    "    return to_field_element(r)\n",
    "\n",
    "def go(io):\n",
    "    roots = []\n",
    "    for c in ['a', 'b', 'c', 'd', 'e']:\n",
    "        f = get(io, c)\n",
    "        st = []\n",
    "        for root in f.nth_root(1000000, all=True): #for part 1 change the root value to 10\n",
    "            f = solve_for_key(root, c.encode())\n",
    "            st.append(f)\n",
    "        roots.append(st)\n",
    "    #print(roots)\n",
    "    key = None\n",
    "    for root in roots[0]:\n",
    "        ye = True\n",
    "        for r in roots[1:]:\n",
    "            if root not in r:\n",
    "                ye = False\n",
    "                break\n",
    "        if ye:\n",
    "            print('key found')\n",
    "            print(root)\n",
    "            key = root\n",
    "            break\n",
    "            \n",
    "    if key is None:\n",
    "        print('Need to rerun')\n",
    "        return False\n",
    "\n",
    "    key = field_element_to_int(key)\n",
    "    sendline(io, b'solve ' + long_to_bytes(int(key)).hex().encode())\n",
    "    \n",
    "    r = recvline(io).decode().strip()\n",
    "    print(r)\n",
    "    if 'wrong key' in r:\n",
    "        print('Need rerun??')\n",
    "        return False\n",
    "    return True\n",
    "\n",
    "\n",
    "for _ in range(100):\n",
    "    r = go(conn())\n",
    "    if r:\n",
    "        break\n",
    "    \n",
    "#hxp{1F_y0U_C4n_r34D_tH1s_I_gU3sS_i7_w4s_n0T_s4F3_4fT3r_4lL} \n",
    "#hxp{L1f3_1s_4_CiRCuS_4nD_w3_4rE_7he_cL0wNz}"
   ]
  },
  {
   "cell_type": "code",
   "execution_count": 66,
   "id": "6d057860-ea73-41c2-86c2-c61478e212d7",
   "metadata": {},
   "outputs": [
    {
     "name": "stdout",
     "output_type": "stream",
     "text": [
      "Original key element: a^127 + a^125 + a^124 + a^123 + a^122 + a^121 + a^120 + a^118 + a^116 + a^115 + a^114 + a^112 + a^110 + a^109 + a^104 + a^102 + a^101 + a^99 + a^95 + a^93 + a^90 + a^89 + a^88 + a^82 + a^81 + a^80 + a^79 + a^76 + a^73 + a^72 + a^71 + a^69 + a^68 + a^64 + a^62 + a^60 + a^59 + a^58 + a^57 + a^54 + a^53 + a^47 + a^45 + a^41 + a^40 + a^39 + a^35 + a^32 + a^31 + a^30 + a^29 + a^28 + a^25 + a^24 + a^22 + a^20 + a^19 + a^18 + a^17 + a^16 + a^12 + a^9 + a^8 + a^7 + a^3 + a + 1\n",
      "Recovered key element: a^127 + a^125 + a^118 + a^116 + a^115 + a^105 + a^103 + a^102 + a^97 + a^96 + a^95 + a^93 + a^91 + a^87 + a^86 + a^78 + a^77 + a^75 + a^74 + a^72 + a^69 + a^67 + a^66 + a^63 + a^62 + a^60 + a^58 + a^53 + a^48 + a^44 + a^40 + a^38 + a^34 + a^30 + a^29 + a^26 + a^25 + a^23 + a^18 + a^16 + a^15 + a^14 + a^12 + a^11 + a^10 + a^8 + a^4 + a\n",
      "\n",
      "Root matches original: False\n"
     ]
    }
   ],
   "source": [
    "import os\n",
    "\n",
    "# First define the field\n",
    "R.<x> = PolynomialRing(GF(2))\n",
    "# Convert f to binary polynomial\n",
    "f_poly = R([int(b) for b in bin(0x1f3267f571be716d65f11ecb21b86d2e9)[2:]])\n",
    "# Create the quotient field\n",
    "F.<a> = GF(2^128, modulus=f_poly)\n",
    "\n",
    "def to_field_element(byte_string):\n",
    "    \"\"\"Convert bytes to field element\"\"\"\n",
    "    # Use little-endian to match original implementation\n",
    "    n = int.from_bytes(byte_string, byteorder='little')\n",
    "    f = R([int(b) for b in bin(n)[2:]])\n",
    "    return F(f)\n",
    "\n",
    "def field_element_to_int(elem):\n",
    "    \"\"\"Convert field element back to integer\"\"\"\n",
    "    poly = elem.polynomial()\n",
    "    result = 0\n",
    "    for i, coeff in enumerate(poly.coefficients(sparse=False)):\n",
    "        if coeff == 1:\n",
    "            result |= (1 << i)\n",
    "    return result\n",
    "\n",
    "def solve_for_key(combined_elem, msg):\n",
    "    \"\"\"\n",
    "    Given the field element for (key || len(msg) || msg) and the msg,\n",
    "    solve for the key\n",
    "    \"\"\"\n",
    "    # Known part: len(msg) || msg\n",
    "    known_part = bytes([len(msg)]) + msg\n",
    "    known_elem = to_field_element(known_part)\n",
    "    \n",
    "    # Calculate the power of a we need\n",
    "    shift = (1 + len(msg)) * 8\n",
    "    \n",
    "    # In the field: key_elem = (combined_elem - known_elem) * (a^shift)^(-1)\n",
    "    shifter = a^shift\n",
    "    shifter_inv = shifter^(-1)\n",
    "    \n",
    "    key_elem = (combined_elem - known_elem) * shifter_inv\n",
    "    return key_elem\n",
    "\n",
    "def mac_poly(key_bytes, msg):\n",
    "    \"\"\"Implement the MAC operation in the field\"\"\"\n",
    "    # Combine key, length, and message\n",
    "    combined = key_bytes + bytes([len(msg)]) + msg\n",
    "    # Convert to field element\n",
    "    elem = to_field_element(combined)\n",
    "    \n",
    "    # Get original key for verification\n",
    "    recovered_key_elem = solve_for_key(elem, msg)\n",
    "    print(\"Original key element:\", to_field_element(key_bytes))\n",
    "    print(\"Recovered key element:\", recovered_key_elem)\n",
    "    \n",
    "    # Compute the 10th power in the field\n",
    "    return elem, elem^10\n",
    "\n",
    "# Test\n",
    "key = os.urandom(32)\n",
    "msg = b\"test message\"\n",
    "og, tag = mac_poly(key, msg)\n",
    "\n",
    "# Verify that we can recover the original element\n",
    "root = tag^((F.order() - 1) // 10 * 9)  # Calculate 10th root\n",
    "print(\"\\nRoot matches original:\", root == og)"
   ]
  },
  {
   "cell_type": "code",
   "execution_count": 108,
   "id": "0466c60a-639f-4029-8563-9c633d8de74b",
   "metadata": {},
   "outputs": [
    {
     "ename": "TypeError",
     "evalue": "from_bytes() missing required argument 'byteorder' (pos 2)",
     "output_type": "error",
     "traceback": [
      "\u001b[0;31m---------------------------------------------------------------------------\u001b[0m",
      "\u001b[0;31mTypeError\u001b[0m                                 Traceback (most recent call last)",
      "Cell \u001b[0;32mIn[108], line 40\u001b[0m\n\u001b[1;32m     37\u001b[0m         \u001b[38;5;28;01mreturn\u001b[39;00m from_bits(tag)\n\u001b[1;32m     39\u001b[0m mac \u001b[38;5;241m=\u001b[39m Mac(key)\n\u001b[0;32m---> 40\u001b[0m \u001b[38;5;28mprint\u001b[39m(\u001b[43mmac\u001b[49m\u001b[43m(\u001b[49m\u001b[38;5;124;43mb\u001b[39;49m\u001b[38;5;124;43m'\u001b[39;49m\u001b[38;5;124;43ma\u001b[39;49m\u001b[38;5;124;43m'\u001b[39;49m\u001b[43m)\u001b[49m)\n",
      "Cell \u001b[0;32mIn[108], line 36\u001b[0m, in \u001b[0;36mMac.__call__\u001b[0;34m(self, msg)\u001b[0m\n\u001b[1;32m     35\u001b[0m \u001b[38;5;28;01mdef\u001b[39;00m \u001b[38;5;21m__call__\u001b[39m(\u001b[38;5;28mself\u001b[39m, msg):\n\u001b[0;32m---> 36\u001b[0m     tag \u001b[38;5;241m=\u001b[39m exp(\u001b[43mto_bits\u001b[49m\u001b[43m(\u001b[49m\u001b[38;5;28;43mself\u001b[39;49m\u001b[38;5;241;43m.\u001b[39;49m\u001b[43mkey\u001b[49m\u001b[43m \u001b[49m\u001b[38;5;241;43m+\u001b[39;49m\u001b[43m \u001b[49m\u001b[38;5;28;43mbytes\u001b[39;49m\u001b[43m(\u001b[49m\u001b[43m[\u001b[49m\u001b[38;5;28;43mlen\u001b[39;49m\u001b[43m(\u001b[49m\u001b[43mmsg\u001b[49m\u001b[43m)\u001b[49m\u001b[43m]\u001b[49m\u001b[43m)\u001b[49m\u001b[43m \u001b[49m\u001b[38;5;241;43m+\u001b[39;49m\u001b[43m \u001b[49m\u001b[43mmsg\u001b[49m\u001b[43m)\u001b[49m, Integer(\u001b[38;5;241m10\u001b[39m))\n\u001b[1;32m     37\u001b[0m     \u001b[38;5;28;01mreturn\u001b[39;00m from_bits(tag)\n",
      "Cell \u001b[0;32mIn[108], line 6\u001b[0m, in \u001b[0;36mto_bits\u001b[0;34m(bs)\u001b[0m\n\u001b[1;32m      5\u001b[0m \u001b[38;5;28;01mdef\u001b[39;00m \u001b[38;5;21mto_bits\u001b[39m(bs):\n\u001b[0;32m----> 6\u001b[0m     \u001b[38;5;28;01mreturn\u001b[39;00m \u001b[38;5;28;43mint\u001b[39;49m\u001b[38;5;241;43m.\u001b[39;49m\u001b[43mfrom_bytes\u001b[49m\u001b[43m(\u001b[49m\u001b[43mbs\u001b[49m\u001b[43m)\u001b[49m\n",
      "\u001b[0;31mTypeError\u001b[0m: from_bytes() missing required argument 'byteorder' (pos 2)"
     ]
    }
   ],
   "source": [
    "#!/usr/bin/env python3\n",
    "\n",
    "f = 0x1f3267f571be716d65f11ecb21b86d2e9\n",
    "\n",
    "def to_bits(bs):\n",
    "    return int.from_bytes(bs)\n",
    "\n",
    "def from_bits(v):\n",
    "    return int.to_bytes(v, 16)\n",
    "\n",
    "def red(x):\n",
    "    while (l := x.bit_length()) > 128:\n",
    "        x ^= f << l - 129\n",
    "    return x\n",
    "\n",
    "def mul(x, y):\n",
    "    z = 0\n",
    "    for i in range(x.bit_length()):\n",
    "        if (x >> i) & 1:\n",
    "            z ^= y << i\n",
    "    return red(z)\n",
    "\n",
    "def exp(x, n):\n",
    "    assert n >= 0\n",
    "    if not n:\n",
    "        return 1\n",
    "    if n % 2:\n",
    "        return mul(x, exp(x, n-1))\n",
    "    return exp(mul(x, x), n//2)\n",
    "\n",
    "class Mac:\n",
    "    def __init__(self, key):\n",
    "        self.key = key\n",
    "\n",
    "    def __call__(self, msg):\n",
    "        tag = exp(to_bits(self.key + bytes([len(msg)]) + msg), 10)\n",
    "        return from_bits(tag)\n",
    "\n",
    "mac = Mac(key)\n",
    "print(mac(b'a'))\n"
   ]
  },
  {
   "cell_type": "code",
   "execution_count": 160,
   "id": "69ebe8d8-7473-4567-a2d6-472b7640a8cf",
   "metadata": {},
   "outputs": [
    {
     "data": {
      "text/plain": [
       "(1024, 1020)"
      ]
     },
     "execution_count": 160,
     "metadata": {},
     "output_type": "execute_result"
    }
   ],
   "source": [
    "p, q = getPrime(512), getPrime(512)\n",
    "phi = (p - 1)*(q-1)\n",
    "e = 0x10001\n",
    "d = pow(e, -1, phi)\n",
    "n = int(p*q)\n",
    "d = int(d)\n",
    "n.bit_length(), d.bit_length()"
   ]
  },
  {
   "cell_type": "code",
   "execution_count": 165,
   "id": "772e5f10-58dc-43cd-a9ec-526b64bfa55c",
   "metadata": {},
   "outputs": [
    {
     "name": "stdout",
     "output_type": "stream",
     "text": [
      "[93, 112, 118, 210, 218, 228, 246, 283]\n",
      "[89, 103, 138, 195, 246, 260, 345, 374]\n",
      "[28, 67, 125, 147, 184, 309, 318, 319]\n",
      "[53, 60, 85, 266, 279, 284, 310, 413]\n",
      "[51, 83, 108, 127, 161, 178, 226, 306]\n",
      "[2, 16, 68, 95, 248, 257, 280, 313]\n",
      "[121, 203, 234, 327, 372, 429, 434, 445]\n",
      "[21, 123, 137, 167, 234, 263, 516, 542]\n",
      "[54, 82, 91, 104, 174, 279, 307, 392]\n",
      "[78, 97, 106, 143, 258, 446, 561, 584]\n",
      "[51, 156, 159, 245, 310, 342, 410, 480]\n",
      "[6, 157, 212, 332, 342, 367, 415, 484]\n",
      "[55, 119, 158, 169, 190, 345, 353, 459]\n",
      "[109, 189, 263, 341, 408, 463, 469, 470]\n",
      "[21, 67, 392, 411, 495, 496, 544, 555]\n",
      "[52, 104, 125, 160, 221, 234, 319, 336]\n",
      "[17, 27, 207, 340, 410, 422, 704, 712]\n",
      "[67, 107, 237, 256, 305, 384, 495, 513]\n",
      "[13, 29, 77, 119, 171, 209, 306, 321]\n",
      "[11, 32, 170, 214, 314, 371, 437, 507]\n",
      "[52, 147, 150, 211, 253, 323, 470, 541]\n",
      "[37, 136, 137, 145, 151, 213, 331, 346]\n",
      "[21, 76, 143, 241, 278, 320, 333, 428]\n",
      "[53, 175, 211, 255, 397, 420, 590, 640]\n",
      "[87, 91, 207, 275, 283, 343, 397, 560]\n",
      "[2, 160, 215, 233, 255, 267, 333, 399]\n",
      "[35, 190, 199, 244, 298, 312, 385, 496]\n",
      "[38, 52, 84, 98, 116, 207, 423, 481]\n",
      "[7, 156, 183, 262, 296, 618, 627, 648]\n",
      "[101, 119, 125, 145, 155, 305, 334, 466]\n",
      "[2, 114, 141, 216, 248, 405, 582, 598]\n",
      "[137, 286, 287, 315, 369, 419, 614, 634]\n",
      "[24, 116, 122, 178, 249, 265, 276, 322]\n",
      "[17, 53, 82, 142, 319, 378, 432, 531]\n",
      "[76, 80, 116, 306, 316, 414, 475, 545]\n",
      "[163, 173, 305, 321, 332, 346, 359, 368]\n",
      "[10, 72, 126, 133, 275, 283, 384, 575]\n",
      "[13, 138, 153, 325, 429, 431, 486, 528]\n",
      "[88, 171, 228, 290, 389, 487, 504, 512]\n",
      "[72, 222, 233, 262, 263, 272, 285, 290]\n",
      "[9, 60, 102, 212, 229, 231, 380, 390]\n",
      "[38, 70, 85, 192, 197, 253, 294, 303]\n",
      "[82, 112, 143, 232, 351, 367, 384, 441]\n",
      "[72, 100, 216, 279, 379, 425, 451, 654]\n",
      "[322, 454, 491, 499, 569, 635, 657, 805]\n",
      "[28, 145, 154, 207, 319, 341, 553, 574]\n",
      "[157, 175, 303, 354, 359, 452, 573, 577]\n",
      "[84, 91, 122, 193, 348, 451, 506, 537]\n",
      "[48, 63, 110, 148, 251, 271, 307, 349]\n",
      "[5, 104, 129, 196, 228, 304, 331, 363]\n",
      "[20, 42, 57, 90, 117, 136, 174, 239]\n",
      "[25, 90, 92, 117, 208, 321, 502, 505]\n",
      "[34, 117, 150, 208, 238, 239, 249, 281]\n",
      "[86, 139, 165, 196, 211, 267, 299, 468]\n",
      "[30, 73, 152, 160, 214, 281, 511, 586]\n",
      "[38, 85, 136, 273, 328, 346, 379, 452]\n",
      "[189, 243, 286, 326, 412, 483, 529, 612]\n",
      "[25, 27, 92, 154, 175, 320, 338, 361]\n",
      "[99, 170, 178, 239, 248, 337, 342, 343]\n",
      "[69, 155, 428, 459, 464, 529, 633, 660]\n",
      "[41, 303, 315, 465, 472, 481, 511, 556]\n",
      "[10, 40, 127, 141, 190, 408, 426, 431]\n",
      "[21, 35, 117, 234, 269, 302, 304, 362]\n",
      "[61, 79, 111, 114, 127, 175, 260, 381]\n",
      "[46, 147, 214, 224, 284, 296, 304, 351]\n",
      "[43, 66, 98, 101, 266, 282, 315, 395]\n",
      "[0, 55, 129, 156, 307, 338, 456, 481]\n",
      "[59, 99, 137, 178, 196, 381, 415, 457]\n",
      "[3, 26, 33, 85, 113, 114, 145, 180]\n",
      "[15, 22, 31, 132, 325, 459, 481, 487]\n",
      "[51, 84, 119, 137, 167, 270, 318, 375]\n",
      "[96, 114, 154, 221, 258, 302, 350, 593]\n",
      "[11, 29, 93, 105, 175, 199, 330, 489]\n",
      "[35, 386, 497, 532, 567, 589, 598, 658]\n",
      "[7, 173, 193, 219, 245, 277, 294, 555]\n",
      "[101, 120, 193, 199, 383, 401, 449, 474]\n",
      "[7, 153, 172, 290, 387, 494, 526, 583]\n",
      "[37, 133, 201, 260, 279, 308, 310, 337]\n",
      "[50, 103, 136, 354, 419, 485, 547, 632]\n",
      "[23, 37, 80, 376, 558, 614, 708, 715]\n",
      "[71, 76, 109, 131, 160, 259, 368, 393]\n",
      "[167, 179, 181, 248, 280, 483, 490, 498]\n",
      "[56, 67, 86, 210, 214, 236, 394, 586]\n",
      "[7, 100, 138, 181, 218, 250, 260, 282]\n",
      "[90, 105, 124, 171, 232, 251, 263, 285]\n",
      "[114, 183, 210, 284, 299, 325, 493, 538]\n",
      "[6, 226, 262, 325, 332, 365, 436, 442]\n",
      "[25, 123, 288, 292, 569, 583, 658, 668]\n",
      "[75, 96, 113, 203, 251, 291, 315, 336]\n",
      "[77, 140, 161, 181, 353, 392, 439, 454]\n",
      "[116, 295, 299, 370, 395, 430, 456, 527]\n",
      "[56, 116, 220, 221, 313, 394, 480, 504]\n",
      "[38, 71, 98, 165, 214, 254, 381, 481]\n",
      "[42, 78, 356, 515, 546, 569, 576, 622]\n",
      "[81, 131, 142, 285, 380, 400, 496, 528]\n",
      "[47, 51, 67, 179, 239, 298, 377, 433]\n",
      "[35, 186, 204, 235, 241, 243, 261, 279]\n",
      "[108, 128, 229, 328, 455, 549, 553, 563]\n",
      "[18, 78, 161, 271, 275, 430, 515, 548]\n",
      "[24, 25, 35, 53, 147, 213, 240, 549]\n"
     ]
    }
   ],
   "source": [
    "bits = 1024\n",
    "errs = 16\n",
    "for _ in range(100):\n",
    "    locs = sorted(Subsets(range(bits), errs).random_element())\n",
    "    s = locs[:8]\n",
    "    print(s)"
   ]
  },
  {
   "cell_type": "code",
   "execution_count": 166,
   "id": "6fc07ffb-48cb-4bc8-a9c2-866ef510cc2d",
   "metadata": {},
   "outputs": [
    {
     "name": "stdout",
     "output_type": "stream",
     "text": [
      "SMP{F1ag_FOR_#L0ve}"
     ]
    }
   ],
   "source": [
    "s = '10110000011000 10100011101000 10101010000000 100000101011000 10010100110000 1101000001000 11001110001000 11011010111000 11001001111000 10010100110000 10100111111000 10101110010000 11001001111000 1001010011000 10100001100000 1100110000000 11111010110000 11010110101000 100001001101000'\n",
    "\n",
    "for c in s.split():\n",
    "    c = int(c, 2)\n",
    "    c = c // (69+67)\n",
    "    print(chr(c), end='')"
   ]
  },
  {
   "cell_type": "code",
   "execution_count": null,
   "id": "ff31c06f-8144-4fb7-a3ef-36962f0ab08b",
   "metadata": {},
   "outputs": [],
   "source": [
    "P1: 7307039331\n",
    "P2_O: 6983432688\n",
    "P3: 5284255017203633261370535345682263310336\n",
    "K: 9531\n",
    "Y: 11709967940066793762796184140152610769821716917529318252119959861290032840327\n",
    "H: 730699457350798390839309068289663772131566530906536306094973\n",
    "\n",
    "\n",
    "Hint: Do an Axe-Ore between 'usedistofindouttheseed' and 'thisisthekeytogetyourseed' to get the numerical value you need. \n",
    "Alice loved splitting and scrambling numbers, but every piece has its place... eventually."
   ]
  },
  {
   "cell_type": "code",
   "execution_count": 168,
   "id": "c2aedd20-6400-4300-b7de-1c28d7b07da0",
   "metadata": {},
   "outputs": [
    {
     "data": {
      "text/plain": [
       "253"
      ]
     },
     "execution_count": 168,
     "metadata": {},
     "output_type": "execute_result"
    }
   ],
   "source": [
    "y = 11709967940066793762796184140152610769821716917529318252119959861290032840327\n",
    "y.bit_length()"
   ]
  },
  {
   "cell_type": "code",
   "execution_count": 235,
   "id": "c953dd3a-4f2e-45fd-b2c7-318c19905395",
   "metadata": {},
   "outputs": [
    {
     "data": {
      "text/plain": [
       "6983425227"
      ]
     },
     "execution_count": 235,
     "metadata": {},
     "output_type": "execute_result"
    }
   ],
   "source": [
    "s1= 7307039331\n",
    "s2= 6983432688\n",
    "s3= 5284255017203633261370535345682263310336\n",
    "s4= 9531\n",
    "s5 = s2^^s4\n",
    "s5"
   ]
  },
  {
   "cell_type": "code",
   "execution_count": 199,
   "id": "68e7da55-9e0f-48ed-8c1a-ed8a058e2215",
   "metadata": {},
   "outputs": [
    {
     "data": {
      "text/plain": [
       "199"
      ]
     },
     "execution_count": 199,
     "metadata": {},
     "output_type": "execute_result"
    }
   ],
   "source": [
    "h = 730699457350798390839309068289663772131566530906536306094973\n",
    "#h *= s3\n",
    "h.bit_length()"
   ]
  },
  {
   "cell_type": "code",
   "execution_count": 192,
   "id": "a293d8ea-f89f-4619-b660-5bba7f93142f",
   "metadata": {},
   "outputs": [
    {
     "name": "stdout",
     "output_type": "stream",
     "text": [
      "22 25\n",
      "730703933169834252275284255017203633261370535345682263310336\n",
      "7307039331 True\n",
      "6983432688 False\n",
      "5284255017203633261370535345682263310336 True\n",
      "9531 False\n"
     ]
    }
   ],
   "source": [
    "c1 = b'usedistofindouttheseed'\n",
    "c2 = b'thisisthekeytogetyourseed'\n",
    "print(len(c1), len(c2))\n",
    "c1 = bytes_to_long(c1)\n",
    "c2 = bytes_to_long(c2)\n",
    "x = c1 ^^ c2\n",
    "print(x)\n",
    "for s in [s1, s2, s3, s4]:\n",
    "    print(s, str(s) in str(x))"
   ]
  },
  {
   "cell_type": "code",
   "execution_count": 196,
   "id": "af1cdc43-ae1b-4aa1-815c-3ed198490bca",
   "metadata": {},
   "outputs": [
    {
     "data": {
      "text/plain": [
       "7461"
      ]
     },
     "execution_count": 196,
     "metadata": {},
     "output_type": "execute_result"
    }
   ],
   "source": [
    "l1=6983432688\n",
    "l2=6983425227\n",
    "l1-l2"
   ]
  },
  {
   "cell_type": "code",
   "execution_count": 251,
   "id": "c1bc3e4f-4989-4b37-b373-845efe767dc2",
   "metadata": {},
   "outputs": [
    {
     "data": {
      "text/plain": [
       "730703933169834252275284255017203633261370535345682263310336"
      ]
     },
     "execution_count": 251,
     "metadata": {},
     "output_type": "execute_result"
    }
   ],
   "source": [
    "def xor(sa, sb):\n",
    "    return bytes([a^^b for a, b in zip(sa, sb)])\n",
    "\n",
    "c1 = b'usedistofindouttheseed'\n",
    "c2 = b'thisisthekeytogetyourseed'\n",
    "c1 = b'\\x00'*3 + c1\n",
    "#c1 = c1 + b'\\x00'*3\n",
    "assert len(c1) == len(c2)\n",
    "x = xor(c1, c2)\n",
    "x = bytes_to_long(x)\n",
    "x"
   ]
  },
  {
   "cell_type": "code",
   "execution_count": 205,
   "id": "b0528c14-2a1a-4ab3-b250-2a60b0623132",
   "metadata": {},
   "outputs": [
    {
     "name": "stdout",
     "output_type": "stream",
     "text": [
      "39398718916463592198674075927356670680922454483198614088152949416703437115373\n"
     ]
    }
   ],
   "source": [
    "\n",
    "\n",
    "import random\n",
    "random.seed(x)\n",
    "\n",
    "p = getrandbits(256)\n",
    "while True:\n",
    "    if is_prime(p):\n",
    "        print(p)\n",
    "        break\n",
    "    p += 1"
   ]
  },
  {
   "cell_type": "code",
   "execution_count": 238,
   "id": "4f800b1f-70df-4bed-88e5-71d152dc5cac",
   "metadata": {},
   "outputs": [
    {
     "name": "stdout",
     "output_type": "stream",
     "text": [
      "213\n",
      "410\n"
     ]
    }
   ],
   "source": [
    "from itertools import permutations\n",
    "\n",
    "def all_concatenations_as_ints(nums):\n",
    "    \"\"\"\n",
    "    Generate all possible concatenations of the integer strings \n",
    "    in their integer form.\n",
    "\n",
    "    Args:\n",
    "        nums (list): List of integers.\n",
    "\n",
    "    Returns:\n",
    "        list: List of integers representing all concatenations.\n",
    "    \"\"\"\n",
    "    # Convert each integer to a string\n",
    "    str_nums = list(map(str, nums))\n",
    "    \n",
    "    # Generate all permutations of the string list\n",
    "    permuted_strings = permutations(str_nums)\n",
    "    \n",
    "    # Concatenate the permutations and convert back to integers\n",
    "    concatenated_ints = [int(\"\".join(p)) for p in permuted_strings]\n",
    "    \n",
    "    return concatenated_ints\n",
    "\n",
    "# Example usage\n",
    "nums = [s1, s5, s3, s4]\n",
    "result = all_concatenations_as_ints(nums)\n",
    "print(result[0].bit_length())\n",
    "tt = s1*s2*s3*s4*h\n",
    "print(tt.bit_length())\n"
   ]
  },
  {
   "cell_type": "code",
   "execution_count": 239,
   "id": "9c472a26-0646-4b14-ab05-300f945b6b8a",
   "metadata": {},
   "outputs": [
    {
     "name": "stdout",
     "output_type": "stream",
     "text": [
      "END\n"
     ]
    }
   ],
   "source": [
    "def dec(q, p, e, c):\n",
    "    assert is_prime(p) and is_prime(q)\n",
    "    phi = (p - 1) * ( q- 1)\n",
    "    d = pow(e, -1, phi)\n",
    "    m = pow(c, d, p * q)\n",
    "    f = long_to_bytes(ZZ(m))\n",
    "    if b'SMP' in f:\n",
    "        print(f)\n",
    "\n",
    "p = 39398718916463592198674075927356670680922454483198614088152949416703437115373\n",
    "for re in result:\n",
    "    dec(y, p, 0x10001, re)\n",
    "\n",
    "print('END')"
   ]
  },
  {
   "cell_type": "code",
   "execution_count": 252,
   "id": "79c6222e-9c58-46ee-b528-daac5e3bfb32",
   "metadata": {},
   "outputs": [
    {
     "data": {
      "text/plain": [
       "b'SMP{Numb3r_1S#_awes0m3}'"
      ]
     },
     "execution_count": 252,
     "metadata": {},
     "output_type": "execute_result"
    }
   ],
   "source": [
    "p = 39398718916463592198674075927356670680922454483198614088152949416703437115373\n",
    "long_to_bytes(x ^^ h)"
   ]
  },
  {
   "cell_type": "code",
   "execution_count": 248,
   "id": "682ccde0-18cf-4d6c-90c1-62894b0a07c5",
   "metadata": {},
   "outputs": [
    {
     "data": {
      "text/plain": [
       "211"
      ]
     },
     "execution_count": 248,
     "metadata": {},
     "output_type": "execute_result"
    }
   ],
   "source": [
    "s = str(s1) + str(s2) + str(s3) + str(s4)\n",
    "s = s1*s2*s3*s4\n",
    "s.bit_length()"
   ]
  },
  {
   "cell_type": "code",
   "execution_count": null,
   "id": "f7daee80-e500-458d-aeef-363da256ecaf",
   "metadata": {},
   "outputs": [],
   "source": [
    "P1: 4583053465\n",
    "P2_O: 4712876638\n",
    "P3: 050830727770097899766746520799989608903411206\n",
    "K: 5964\n",
    "Magic Number: 845321\n",
    "Hidden Value: 45830534647166131662210698039087274510333927906501911560900149115\n",
    "\n",
    "\n",
    "Hint:\n",
    "\n",
    "\"Axe-Ore the strings 'kshackzoneishereforyou' and 'ohiguessyouarerightwiththis'. \n",
    "Alice said it would give a 'seed'—but she wasn’t clear what kind of seed. \n",
    "Perhaps something was left behind to guide you? Or is it just another riddle?\""
   ]
  },
  {
   "cell_type": "code",
   "execution_count": 253,
   "id": "ba71cf1a-5577-4775-b4e7-31682a8874c3",
   "metadata": {},
   "outputs": [
    {
     "data": {
      "text/plain": [
       "45830534654712881426050830727770097899766746520799989608903411206"
      ]
     },
     "execution_count": 253,
     "metadata": {},
     "output_type": "execute_result"
    }
   ],
   "source": [
    "c1 = b'kshackzoneishereforyou'\n",
    "c2 = b'ohiguessyouarerightwiththis'\n",
    "\n",
    "c1 = b'\\x00'*5 + c1\n",
    "#c1 = c1 + b'\\x00'*3\n",
    "assert len(c1) == len(c2)\n",
    "x = xor(c1, c2)\n",
    "x = bytes_to_long(x)\n",
    "x"
   ]
  },
  {
   "cell_type": "code",
   "execution_count": 268,
   "id": "f1462031-06f9-48dd-a067-fda7875d50ee",
   "metadata": {},
   "outputs": [
    {
     "data": {
      "text/plain": [
       "b'SMP{Y0u_g0t_x00r_k1tty}'"
      ]
     },
     "execution_count": 268,
     "metadata": {},
     "output_type": "execute_result"
    }
   ],
   "source": [
    "long_to_bytes(h ^^ x)"
   ]
  },
  {
   "cell_type": "code",
   "execution_count": 257,
   "id": "d6c50053-1076-420d-b44b-7a8e3a12b062",
   "metadata": {},
   "outputs": [
    {
     "name": "stdout",
     "output_type": "stream",
     "text": [
      "5776552821453195782437569959830414871778558461341559077107341627942024484901\n"
     ]
    }
   ],
   "source": [
    "\n",
    "\n",
    "import random\n",
    "random.seed(x)\n",
    "\n",
    "p = getrandbits(256)\n",
    "while True:\n",
    "    if is_prime(p):\n",
    "        print(p)\n",
    "        break\n",
    "    p += 1"
   ]
  },
  {
   "cell_type": "code",
   "execution_count": 259,
   "id": "b102346b-4b2e-4b77-847f-faa052694475",
   "metadata": {},
   "outputs": [
    {
     "name": "stdout",
     "output_type": "stream",
     "text": [
      "b'\\x08]\\x86\\xf1\\xb4\\xd7T5BKvpl\\xdd*\\xf2\\xd9\\x19\\xbcWt\\x15\\x98\\xf1\\xed\\xd6pw\\xfe4t\\x02'\n",
      "END\n"
     ]
    }
   ],
   "source": [
    "def dec(p, e, c):\n",
    "    #assert is_prime(p) and is_prime(q)\n",
    "    #phi = (p - 1) * ( q- 1)\n",
    "    phi = p - 1\n",
    "    d = pow(e, -1, phi)\n",
    "    m = pow(c, d, p)\n",
    "    f = long_to_bytes(ZZ(m))\n",
    "    print(f)\n",
    "\n",
    "#p = 39398718916463592198674075927356670680922454483198614088152949416703437115373\n",
    "p = 5776552821453195782437569959830414871778558461341559077107341627942024484901\n",
    "#for re in result:\n",
    "dec(p, 845321, h)\n",
    "\n",
    "print('END')"
   ]
  },
  {
   "cell_type": "code",
   "execution_count": 254,
   "id": "8286710b-86ca-42ef-9114-88e81c4e802f",
   "metadata": {},
   "outputs": [
    {
     "data": {
      "text/plain": [
       "4712876638"
      ]
     },
     "execution_count": 254,
     "metadata": {},
     "output_type": "execute_result"
    }
   ],
   "source": [
    "4712881426 ^^ 5964"
   ]
  },
  {
   "cell_type": "code",
   "execution_count": 255,
   "id": "c40ca11d-1cc5-42c8-b6be-a1c26a4c6397",
   "metadata": {},
   "outputs": [
    {
     "data": {
      "text/plain": [
       "29 * 103 * 283"
      ]
     },
     "execution_count": 255,
     "metadata": {},
     "output_type": "execute_result"
    }
   ],
   "source": [
    "factor(845321)"
   ]
  },
  {
   "cell_type": "code",
   "execution_count": 256,
   "id": "169b519f-ca75-472f-975f-fb1aa159dcab",
   "metadata": {},
   "outputs": [
    {
     "data": {
      "text/plain": [
       "215"
      ]
     },
     "execution_count": 256,
     "metadata": {},
     "output_type": "execute_result"
    }
   ],
   "source": [
    "h = 45830534647166131662210698039087274510333927906501911560900149115\n",
    "h.bit_length()"
   ]
  },
  {
   "cell_type": "code",
   "execution_count": null,
   "id": "e43d748d-4bcf-4f54-924b-ed370700bc1b",
   "metadata": {},
   "outputs": [],
   "source": []
  }
 ],
 "metadata": {
  "kernelspec": {
   "display_name": "SageMath 10.4",
   "language": "sage",
   "name": "sagemath"
  },
  "language_info": {
   "codemirror_mode": {
    "name": "ipython",
    "version": 3
   },
   "file_extension": ".py",
   "mimetype": "text/x-python",
   "name": "python",
   "nbconvert_exporter": "python",
   "pygments_lexer": "ipython3",
   "version": "3.9.21"
  }
 },
 "nbformat": 4,
 "nbformat_minor": 5
}
