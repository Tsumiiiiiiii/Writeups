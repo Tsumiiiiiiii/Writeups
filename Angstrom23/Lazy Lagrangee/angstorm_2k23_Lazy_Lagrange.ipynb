{
 "cells": [
  {
   "cell_type": "code",
   "execution_count": 44,
   "metadata": {},
   "outputs": [
    {
     "name": "stdout",
     "output_type": "stream",
     "text": [
      "161051\n",
      "14641\n"
     ]
    }
   ],
   "source": [
    "import itertools\n",
    "\n",
    "opt = ['8', 'b', 't', '}', '7', '{', 'f', 'c', '6', 'a', '0']\n",
    "opts = [ord(c) for c in opt]\n",
    "perms5 = list(itertools.product(opts, repeat = 5))\n",
    "print(len(perms5))\n",
    "perms4 = list(itertools.product(opts, repeat = 4))\n",
    "              \n",
    "print(len(perms4))"
   ]
  },
  {
   "cell_type": "code",
   "execution_count": 45,
   "metadata": {},
   "outputs": [
    {
     "name": "stderr",
     "output_type": "stream",
     "text": [
      "100%|██████████| 161051/161051 [00:02<00:00, 59640.69it/s]\n"
     ]
    }
   ],
   "source": [
    "from tqdm import tqdm\n",
    "\n",
    "M = (1 << 127) - 1\n",
    "d1 = dict()\n",
    "p1 = 23\n",
    "for perm in tqdm(perms5):\n",
    "    pwL = [0, 2, 4, 6, 8]\n",
    "    sm = sum([perm[i] * (p1 ** pwL[i]) for i in range(5)])\n",
    "    d1[sm] = perm"
   ]
  },
  {
   "cell_type": "code",
   "execution_count": 46,
   "metadata": {},
   "outputs": [
    {
     "name": "stderr",
     "output_type": "stream",
     "text": [
      "100%|██████████| 161051/161051 [00:02<00:00, 68063.15it/s]\n"
     ]
    }
   ],
   "source": [
    "d2 = dict()\n",
    "p2 = 23\n",
    "for perm in tqdm(perms5):\n",
    "    pwL = pwL = [1, 3, 5, 7, 9]\n",
    "    sm = sum([perm[i] * (p2 ** pwL[i]) for i in range(5)])\n",
    "    d2[sm] = perm"
   ]
  },
  {
   "cell_type": "code",
   "execution_count": 62,
   "metadata": {},
   "outputs": [],
   "source": [
    "import socket\n",
    "\n",
    "def sendline(sock, data):\n",
    "    sock.sendall(data + b\"\\n\")\n",
    "\n",
    "def recvline(sock):\n",
    "    buf = b\"\"\n",
    "    while True:\n",
    "        data = sock.recv(1)\n",
    "        if not data:\n",
    "            break\n",
    "        buf += data\n",
    "        if data == b\"\\n\":\n",
    "            break\n",
    "    return buf\n",
    "\n",
    "def recvuntil(sock, delim):\n",
    "    buf = b\"\"\n",
    "    while True:\n",
    "        data = sock.recv(1)\n",
    "        if not data:\n",
    "            break\n",
    "        buf += data\n",
    "        if delim in buf:\n",
    "            break\n",
    "    return buf\n",
    "\n",
    "\n"
   ]
  },
  {
   "cell_type": "code",
   "execution_count": 70,
   "metadata": {},
   "outputs": [
    {
     "name": "stderr",
     "output_type": "stream",
     "text": [
      " 41%|████      | 6032/14641 [00:00<00:00, 22001.09it/s]\n",
      " 36%|███▌      | 5288/14641 [00:00<00:00, 22740.63it/s]\n"
     ]
    },
    {
     "name": "stdout",
     "output_type": "stream",
     "text": [
      "[98, 48, 97, 56, 102, 102, 116, 102, 56, 54, 55, 125, 123, 48, 97, 99, 55, 54]\n",
      "[16, 10, 13, 11, 8, 3, 2, 5, 6, 9, 14, 17, 4, 7, 0, 1, 15, 12]\n",
      "actf{f80f6086a77b}\n"
     ]
    }
   ],
   "source": [
    "sock = socket.socket(socket.AF_INET, socket.SOCK_STREAM)\n",
    "sock.connect(('challs.actf.co', 32100))\n",
    "\n",
    "recvuntil(sock, b\":\")\n",
    "sendline(sock, b\"1\")\n",
    "recvuntil(sock, b'>')\n",
    "sendline(sock, b'23 170141183460469231731687303715884105704')\n",
    "r1 = int(recvline(sock).strip())\n",
    "r2 = int(recvline(sock).strip())\n",
    "recvuntil(sock, b':')\n",
    "sendline(sock, b'2')\n",
    "recvuntil(sock, b'>')\n",
    "\n",
    "RHS = [r1, r2]\n",
    "\n",
    "p1_sm = (RHS[0] + RHS[1]) % M\n",
    "p1_sm = (pow(2, -1, M) * p1_sm) % M\n",
    "even_pow = None\n",
    "for perm in tqdm(perms4):\n",
    "    pwR = [10, 12, 14, 16]\n",
    "    sm = sum([perm[i] * (p1 ** pwR[i]) for i in range(4)])\n",
    "    need = (p1_sm - sm + M) % M\n",
    "    if need in d1:\n",
    "        even_pow = d1[need] + perm\n",
    "        break\n",
    "        \n",
    "other_sm = (RHS[0] - RHS[1]) % M\n",
    "other_sm = (pow(2, -1, M) * other_sm) % M\n",
    "odd_pow = None\n",
    "for perm in tqdm(perms4):\n",
    "    pwR = [11, 13, 15, 17]\n",
    "    sm = sum([perm[i] * (p2 ** pwR[i]) for i in range(4)])\n",
    "    need = (other_sm - sm + M) % M\n",
    "    if need in d2:\n",
    "        odd_pow = d2[need] + perm\n",
    "        break\n",
    "        \n",
    "\n",
    "coeffs = []\n",
    "for i in range(18):\n",
    "    if i % 2 == 0:\n",
    "        coeffs.append(even_pow[i // 2])\n",
    "    else:\n",
    "        coeffs.append(odd_pow[i // 2])\n",
    "        \n",
    "print(coeffs)\n",
    "\n",
    "to_send = \" \".join([str(i) for i in coeffs])\n",
    "sendline(sock, to_send.encode())\n",
    "perms = recvline(sock).decode().strip()\n",
    "perms = list(map(int, perms.split()))\n",
    "\n",
    "print(perms)\n",
    "\n",
    "flag = [0 for _ in range(len(coeffs))]\n",
    "for idx, val in enumerate(perms):\n",
    "    flag[val] = coeffs[idx]\n",
    "\n",
    "flag = ''.join([chr(c) for c in flag])\n",
    "print(flag)"
   ]
  },
  {
   "cell_type": "code",
   "execution_count": 61,
   "metadata": {},
   "outputs": [],
   "source": []
  },
  {
   "cell_type": "code",
   "execution_count": null,
   "metadata": {},
   "outputs": [],
   "source": []
  }
 ],
 "metadata": {
  "kernelspec": {
   "display_name": "SageMath 9.3",
   "language": "sage",
   "name": "sagemath"
  },
  "language_info": {
   "codemirror_mode": {
    "name": "ipython",
    "version": 3
   },
   "file_extension": ".py",
   "mimetype": "text/x-python",
   "name": "python",
   "nbconvert_exporter": "python",
   "pygments_lexer": "ipython3",
   "version": "3.7.10"
  }
 },
 "nbformat": 4,
 "nbformat_minor": 4
}
